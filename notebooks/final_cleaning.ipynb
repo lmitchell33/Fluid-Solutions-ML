{
 "cells": [
  {
   "cell_type": "code",
   "execution_count": 116,
   "metadata": {},
   "outputs": [],
   "source": [
    "import os\n",
    "import pandas as pd\n",
    "import numpy as np\n",
    "import matplotlib.pyplot as plt\n",
    "import seaborn as sns\n",
    "from datetime import datetime, timedelta\n",
    "\n",
    "# load in the csv files as dataframes\n",
    "BASE_DIR = os.path.expanduser(\"~/Fluid-Solutions-ML/data/raw/\")\n",
    "items_df = pd.read_csv(os.path.join(BASE_DIR, \"d_items.csv\"))\n",
    "chart_df = pd.read_csv(os.path.join(BASE_DIR, \"chartevents.csv\"))\n",
    "fluid_input_df = pd.read_csv(os.path.join(BASE_DIR, \"inputevents.csv\"))\n",
    "fluid_output_df = pd.read_csv(os.path.join(BASE_DIR, \"outputevents.csv\"))"
   ]
  },
  {
   "cell_type": "markdown",
   "metadata": {},
   "source": [
    "- **d_items.csv** -> stores a list of all events/items and their ids. Prolly used as a util table for relational mapping\n",
    "- **chartevents.csv** -> stores all chart value items. This is where we will get the vitals data from\n",
    "- **inputevents.csv** -> Stores all things that go into a patient, mainly medications and fluids. We only care about fluids, therefore, we only care about the mL rows\n",
    "- **outputevents.csv** -> stores all fluid outputs"
   ]
  },
  {
   "cell_type": "code",
   "execution_count": 117,
   "metadata": {},
   "outputs": [],
   "source": [
    "# convert the time-related columns to datetime objects so I can apply some logic on them later\n",
    "def convert_timestamps(dataframe, time_columns):\n",
    "    for col in time_columns:\n",
    "        if col in dataframe.columns:\n",
    "            dataframe[col] = pd.to_datetime(dataframe[col], errors='coerce')\n",
    "    return dataframe\n",
    "\n",
    "chart_df = convert_timestamps(chart_df, ['charttime', 'storetime'])\n",
    "fluid_input_df = convert_timestamps(fluid_input_df, ['starttime', 'endtime', 'storetime'])\n",
    "fluid_output_df = convert_timestamps(fluid_output_df, ['charttime', 'charttime'])"
   ]
  },
  {
   "cell_type": "markdown",
   "metadata": {},
   "source": [
    "In order to group the data, we first need ot figure out which items (corresponding to the chart event) we want to consider to use for the vitals. The hard part about this is that each of the vitals signs we want all have multiple itemids which could be used. The filtered list of itemids and their label are in item_names.\n",
    "\n",
    "\n",
    "- cvp -> 220074\n",
    "- pulse pressure -> sys-dias\n",
    "- heart rate -> 220045\n",
    "- spo2 -> 228232 (?)\n",
    "- systolic bp -> 227243, 220179, 224167\n",
    "- diastolic bp -> 227242, 220180, 224643\n",
    "- non invasive mean bp -> 220181\n",
    "- systolic art pressure -> 225309, 220050\n",
    "- diastolic art pressure -> 220051, 225310\n",
    "- mean art pressure (map) -> 220052, 225312"
   ]
  },
  {
   "cell_type": "code",
   "execution_count": 118,
   "metadata": {},
   "outputs": [],
   "source": [
    "cvp_item_ids = [220074]\n",
    "heart_rate_item_ids = [220045]\n",
    "spo2_itam_ids = [228232, 220277]\n",
    "systolic_bp_item_ids = [227243, 224167]\n",
    "diastolic_bp_item_ids = [227242, 224643]\n",
    "non_invasive_systolic_bp_item_ids = [220179]\n",
    "non_invasive_diastolic_bp_item_ids = [220180]\n",
    "non_invasive_mean_bp_item_ids = [220181]\n",
    "systolic_art_pressure_item_ids = [225309, 220050]\n",
    "diastolic_art_pressure_item_ids = [220051, 225310]\n",
    "mean_art_pressure_item_ids = [220052, 225312]\n",
    "respiratory_rate_item_ids = [220210]\n",
    "\n",
    "vitals_item_ids = []\n",
    "vitals_item_ids.extend(\n",
    "    heart_rate_item_ids + spo2_itam_ids + systolic_bp_item_ids +\n",
    "    diastolic_bp_item_ids + non_invasive_systolic_bp_item_ids +\n",
    "    non_invasive_diastolic_bp_item_ids + non_invasive_mean_bp_item_ids +\n",
    "    systolic_art_pressure_item_ids + diastolic_art_pressure_item_ids +\n",
    "    mean_art_pressure_item_ids + cvp_item_ids + respiratory_rate_item_ids\n",
    ")"
   ]
  },
  {
   "cell_type": "markdown",
   "metadata": {},
   "source": [
    "### Data Grouping:\n",
    "1. Loop through the records in input and output events\n",
    "2. For each record, get the associated timestamp\n",
    "3. Find the chart events for the patient assocaited with the record \n",
    "4. Find the chart events with the closeest timestamp to the record\n",
    "5. Get the specific vitals/data points we watn from these chart events and store them in a dataframes\n",
    "\n",
    "\n",
    "**Because we cannot really train the model right now with ppv values (there are not enough consecutive readings to get the min and max pp of a respiratory cycle), we will haev to train the model using pp values for now**"
   ]
  },
  {
   "cell_type": "code",
   "execution_count": 119,
   "metadata": {},
   "outputs": [],
   "source": [
    "# for now, I'm just going to focus on the fluid input events:\n",
    "\n",
    "# cleanup the data in the fluid input table\n",
    "fluid_input_df = fluid_input_df.dropna(subset=['itemid', 'amount', 'starttime', 'endtime'])\n",
    "\n",
    "# drop all rows when the administered volume is 0 and make sure we are only looking at volumes/fluids\n",
    "fluid_input_df = fluid_input_df[\n",
    "    (fluid_input_df['amount'] > 0) &\n",
    "    (fluid_input_df['amountuom'].astype(str) == \"ml\")\n",
    "]\n",
    "\n",
    "# cleanup the data in the chart evens table \n",
    "chart_df = chart_df.dropna(subset=['itemid', 'valueuom', 'charttime', 'valuenum', 'value'])"
   ]
  },
  {
   "cell_type": "code",
   "execution_count": 120,
   "metadata": {},
   "outputs": [],
   "source": [
    "# Test code to make sure what I am iterating through works\n",
    "# timestamp = \"2132-12-16 06:23:00\" # for now use starttime becuase that should be closer to the chartevent time\n",
    "# patient_stay_id = str(20626031)\n",
    "# training_label = \"low\" # if they administered fluid, then the patients blood volume status is low\n",
    "\n",
    "# # Find the chart events (vitals) associated with the patient\n",
    "# patient_chart_events = chart_df[\n",
    "#     (chart_df['hadm_id'].astype(str) == patient_stay_id) &\n",
    "#     (chart_df['charttime'] <= timestamp) &\n",
    "#     (chart_df['charttime'] >= \"2132-12-16 06:00:00\") &\n",
    "#     (chart_df['itemid'].astype(int).isin(vitals_item_ids))\n",
    "# ]\n",
    "\n",
    "# patient_chart_events"
   ]
  },
  {
   "cell_type": "code",
   "execution_count": null,
   "metadata": {},
   "outputs": [
    {
     "data": {
      "text/plain": [
       "      itemid\n",
       "mean  220045     88.0\n",
       "      220050    130.0\n",
       "      220051     42.0\n",
       "      220052     68.0\n",
       "      220074     10.0\n",
       "      220210     21.0\n",
       "      220277     94.0\n",
       "std   220045      NaN\n",
       "      220050      NaN\n",
       "      220051      NaN\n",
       "      220052      NaN\n",
       "      220074      NaN\n",
       "      220210      NaN\n",
       "      220277      NaN\n",
       "min   220045     88.0\n",
       "      220050    130.0\n",
       "      220051     42.0\n",
       "      220052     68.0\n",
       "      220074     10.0\n",
       "      220210     21.0\n",
       "      220277     94.0\n",
       "max   220045     88.0\n",
       "      220050    130.0\n",
       "      220051     42.0\n",
       "      220052     68.0\n",
       "      220074     10.0\n",
       "      220210     21.0\n",
       "      220277     94.0\n",
       "dtype: float64"
      ]
     },
     "execution_count": 123,
     "metadata": {},
     "output_type": "execute_result"
    }
   ],
   "source": [
    "fluid_input_training_data = []\n",
    "\n",
    "# iterate through each record\n",
    "for row in fluid_input_df.itertuples():\n",
    "    timestamp = row.starttime # for now use starttime becuase that should be closer to the chartevent time\n",
    "    patient_stay_id = str(row.hadm_id) # this is an id which is given to a patient per each stay in the ICU\n",
    "\n",
    "    # Find the chart events (vitals) associated with the patient\n",
    "    patient_chart_events = chart_df[\n",
    "        (chart_df['hadm_id'].astype(str) == patient_stay_id) &\n",
    "        (chart_df['charttime'] <= timestamp) &\n",
    "        (chart_df['charttime'] > timestamp-timedelta(hours=1)) &\n",
    "        (chart_df['itemid'].astype(int).isin(vitals_item_ids))\n",
    "    ]\n",
    "\n",
    "    # this is some weird goruping stuff chatGPT gave me, try it out later\n",
    "    # if not patient_chart_events.empty:\n",
    "    #     aggregated_features = patient_chart_events.groupby('itemid')['valuenum'].agg(['mean', 'std', 'min', 'max']).unstack()\n",
    "    # else:\n",
    "    #     aggregated_features = pd.Series(dtype=\"float64\")\n",
    "\n",
    "    # Convert to dictionary for easier merging\n",
    "    # patient_record = {\"hadm_id\": patient_stay_id, \"label\": \"low\"}\n",
    "    # patient_record.update(aggregated_features.to_dict())\n",
    "\n",
    "    fluid_input_training_data.append(patient_chart_events)\n",
    "\n",
    "    break\n",
    "\n",
    "patient_chart_events\n",
    "# aggregated_features"
   ]
  }
 ],
 "metadata": {
  "kernelspec": {
   "display_name": "Python 3",
   "language": "python",
   "name": "python3"
  },
  "language_info": {
   "codemirror_mode": {
    "name": "ipython",
    "version": 3
   },
   "file_extension": ".py",
   "mimetype": "text/x-python",
   "name": "python",
   "nbconvert_exporter": "python",
   "pygments_lexer": "ipython3",
   "version": "3.10.12"
  }
 },
 "nbformat": 4,
 "nbformat_minor": 2
}
