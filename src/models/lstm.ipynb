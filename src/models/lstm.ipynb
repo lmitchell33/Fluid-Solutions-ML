{
 "cells": [
  {
   "cell_type": "code",
   "execution_count": null,
   "metadata": {},
   "outputs": [],
   "source": [
    "from torch.nn import Module, LSTM, Linear\n",
    "\n",
    "# NOTE: because the lstm picks up on temporal patterns, when creating the test train split\n",
    "# we should try to group the data by person by time, meaning I would have to go through and\n",
    "# create another dataset just for the lstm that still has timestamps and hadm_ids. "
   ]
  }
 ],
 "metadata": {
  "kernelspec": {
   "display_name": "Python 3",
   "language": "python",
   "name": "python3"
  },
  "language_info": {
   "name": "python",
   "version": "3.10.12"
  }
 },
 "nbformat": 4,
 "nbformat_minor": 2
}
