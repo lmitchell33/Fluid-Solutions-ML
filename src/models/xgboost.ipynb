{
 "cells": [
  {
   "cell_type": "code",
   "execution_count": null,
   "metadata": {},
   "outputs": [],
   "source": [
    "import xgboost as xgb\n",
    "from sklearn.model_selection import GridSearchCV, train_test_split\n",
    "from sklearn.metrics import classification_report, accuracy_score\n",
    "from sklearn.preprocessing import LabelEncoder\n",
    "import pandas as pd\n",
    "\n",
    "data = pd.read_csv(\"https://raw.githubusercontent.com/lmitchell33/Fluid-Solutions-ML/refs/heads/main/data/processed/FINAL_TRAINING_DATA.csv\")"
   ]
  },
  {
   "cell_type": "code",
   "execution_count": null,
   "metadata": {},
   "outputs": [],
   "source": [
    "# separte the data into X (input) and y (label)\n",
    "X, y = data.drop(columns=['label', 'Unnamed: 0']).to_numpy(), data['label'].to_numpy()"
   ]
  },
  {
   "cell_type": "code",
   "execution_count": null,
   "metadata": {},
   "outputs": [],
   "source": [
    "# transfer the categorical data into numerical (models can only understand numerical data)\n",
    "label_encoder = LabelEncoder()\n",
    "y_labeled = label_encoder.fit_transform(y)\n",
    "\n",
    "# Labels are as follows:\n",
    "# high -> 0\n",
    "# low -> 1\n",
    "# normal -> 2\n",
    "\n",
    "label_mapping = dict(zip(label_encoder.classes_, label_encoder.transform(label_encoder.classes_)))\n",
    "label_mapping"
   ]
  },
  {
   "cell_type": "code",
   "execution_count": null,
   "metadata": {},
   "outputs": [],
   "source": [
    "feature_names = data.drop(columns=['label', 'Unnamed: 0']).columns.to_list()\n",
    "feature_names"
   ]
  },
  {
   "cell_type": "code",
   "execution_count": null,
   "metadata": {},
   "outputs": [],
   "source": [
    "# randomly split the dat into training and testing subsets\n",
    "# this is a 75/25 train/test split\n",
    "X_train, X_test, y_train, y_test = train_test_split(X, y_labeled, test_size=0.20, random_state=42)"
   ]
  },
  {
   "cell_type": "code",
   "execution_count": null,
   "metadata": {},
   "outputs": [],
   "source": [
    "y_train"
   ]
  },
  {
   "cell_type": "code",
   "execution_count": null,
   "metadata": {},
   "outputs": [],
   "source": [
    "# create a parameter grid to perfomr the grid search with (xgboost paramters this time)\n",
    "param_grid = {\n",
    "    'n_estimators': [50, 100, 150],      # for the regular RF this was 100\n",
    "    'max_depth': [3, 4, 5],              # for the rgular RF this was None\n",
    "    'eta': [0.01, 0.05, 0.1],  \n",
    "    'subsample': [0.8, 1.0],             \n",
    "    'colsample_bytree': [0.8, 1.0],      \n",
    "    'gamma': [0, 0.1, 0.2],              \n",
    "    'min_child_weight': [1, 3]           \n",
    "}"
   ]
  },
  {
   "cell_type": "code",
   "execution_count": null,
   "metadata": {},
   "outputs": [],
   "source": [
    "# decalre the model NOTE: this model automatically uses logloss for the validation data\n",
    "xgb_rf = xgb.XGBClassifier(random_state=42)\n",
    "grid_search = GridSearchCV(xgb_rf, param_grid=param_grid, cv=5, n_jobs=-1, verbose=2)\n",
    "grid_search.fit(X_train, y_train)"
   ]
  },
  {
   "cell_type": "code",
   "execution_count": null,
   "metadata": {},
   "outputs": [],
   "source": [
    "print(f\"Best parameters: {grid_search.best_params_}\")"
   ]
  },
  {
   "cell_type": "code",
   "execution_count": null,
   "metadata": {},
   "outputs": [],
   "source": [
    "best_xg_boost = grid_search.best_estimator_\n",
    "best_params = grid_search.best_params_"
   ]
  },
  {
   "cell_type": "code",
   "execution_count": null,
   "metadata": {},
   "outputs": [],
   "source": [
    "y_pred = best_xg_boost.predict(X_test)\n",
    "print(\"Test Set Accuracy:\", accuracy_score(y_test, y_pred))"
   ]
  },
  {
   "cell_type": "code",
   "execution_count": null,
   "metadata": {},
   "outputs": [],
   "source": [
    "print(\"Classification Report:\\n\", classification_report(y_test, y_pred))"
   ]
  },
  {
   "cell_type": "code",
   "execution_count": null,
   "metadata": {},
   "outputs": [],
   "source": [
    "best_xg_boost.save_model(\"/content/xgboost_model.json\")"
   ]
  },
  {
   "cell_type": "code",
   "execution_count": null,
   "metadata": {},
   "outputs": [],
   "source": [
    "# create a confusion matrix to see how well the model distinguishes between classes\n",
    "from sklearn.metrics import confusion_matrix, ConfusionMatrixDisplay\n",
    "import matplotlib.pyplot as plt\n",
    "\n",
    "# Labels are as follows:\n",
    "# high -> 0\n",
    "# low -> 1\n",
    "# normal -> 2\n",
    "\n",
    "cm = confusion_matrix(y_test, y_pred)\n",
    "\n",
    "disp = ConfusionMatrixDisplay(confusion_matrix=cm)\n",
    "disp.plot()\n",
    "plt.title(\"Confusion Matrix\")\n",
    "plt.show()"
   ]
  },
  {
   "cell_type": "code",
   "execution_count": null,
   "metadata": {},
   "outputs": [],
   "source": [
    "# Check to see how the model is fitting to the data by plotting the learning curve\n",
    "from sklearn.model_selection import learning_curve\n",
    "import numpy as np\n",
    "\n",
    "best_model = xgb.XGBClassifier(**best_params, random_state=42)\n",
    "\n",
    "train_sizes, train_scores, cv_scores = learning_curve(\n",
    "    best_model, X, y_labeled, cv=5, scoring='accuracy',\n",
    "    train_sizes=np.linspace(0.1, 1.0, 10), n_jobs=-1\n",
    ")\n",
    "\n",
    "train_scores_mean = np.mean(train_scores, axis=1)\n",
    "train_scores_std = np.std(train_scores, axis=1)\n",
    "cv_scores_mean = np.mean(cv_scores, axis=1)\n",
    "cv_scores_std = np.std(cv_scores, axis=1)\n",
    "\n",
    "plt.figure(figsize=(8, 6))\n",
    "plt.fill_between(train_sizes, train_scores_mean - train_scores_std,\n",
    "                 train_scores_mean + train_scores_std, alpha=0.1, color=\"r\")\n",
    "plt.fill_between(train_sizes, cv_scores_mean - cv_scores_std,\n",
    "                 cv_scores_mean + cv_scores_std, alpha=0.1, color=\"g\")\n",
    "plt.plot(train_sizes, train_scores_mean, 'o-', color=\"r\", label=\"Training score\")\n",
    "plt.plot(train_sizes, cv_scores_mean, 'o-', color=\"g\", label=\"Cross-validation score\")\n",
    "plt.xlabel(\"Number of Training Examples\")\n",
    "plt.ylabel(\"Accuracy Score\")\n",
    "plt.title(\"Learning Curve\")\n",
    "plt.legend(loc=\"best\")\n",
    "plt.grid(True)\n",
    "plt.show()"
   ]
  },
  {
   "cell_type": "code",
   "execution_count": null,
   "metadata": {},
   "outputs": [],
   "source": [
    "# found this in the documentation and I figured I would try it\n",
    "xgb.plot_importance(best_xg_boost)"
   ]
  }
 ],
 "metadata": {
  "kernelspec": {
   "display_name": "Python 3",
   "language": "python",
   "name": "python3"
  },
  "language_info": {
   "name": "python",
   "version": "3.10.12"
  }
 },
 "nbformat": 4,
 "nbformat_minor": 2
}
